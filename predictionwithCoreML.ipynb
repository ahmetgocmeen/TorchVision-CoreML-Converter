{
 "cells": [
  {
   "cell_type": "code",
   "execution_count": null,
   "metadata": {},
   "outputs": [],
   "source": [
    "from PIL import Image\n",
    "import numpy as np\n",
    "import coremltools\n",
    "\n",
    "# Load the Core ML model\n",
    "model_path = \"bird-resnet34v1.mlpackage\"  # Adjust the path to your model\n",
    "model = coremltools.models.MLModel(model_path)\n",
    "\n",
    "# Load and prepare the image\n",
    "img_path = \"img/test_imagev3.jpg\"\n",
    "img = Image.open(img_path)\n",
    "img = img.resize([224, 224], Image.LANCZOS)\n",
    "\n",
    "# Assume the input name is \"input_1\" based on your script; adjust if it's different\n",
    "input_name = model.get_spec().description.input[0].name\n",
    "\n",
    "# Make a prediction\n",
    "coreml_out_dict = model.predict({input_name: img})\n",
    "\n",
    "# Assuming your model outputs include 'classLabel' and a dictionary of probabilities\n",
    "print(\"coreml predictions: \")\n",
    "print(\"top class label: \", coreml_out_dict[\"classLabel\"])\n",
    "\n",
    "# Extracting the probabilities dictionary\n",
    "for out in model.get_spec().description.output:\n",
    "    if out.type.WhichOneof('Type') == \"dictionaryType\":\n",
    "        coreml_dict_name = out.name\n",
    "        break\n",
    "\n",
    "coreml_prob_dict = coreml_out_dict[coreml_dict_name]\n",
    "\n",
    "# Processing the probabilities to find top classes\n",
    "values_vector = np.array(list(coreml_prob_dict.values()))\n",
    "keys_vector = list(coreml_prob_dict.keys())\n",
    "top_3_indices_coreml = np.argsort(-values_vector)[:3]\n",
    "for i in range(3):\n",
    "    idx = top_3_indices_coreml[i]\n",
    "    score_value = values_vector[idx]\n",
    "    class_id = keys_vector[idx]\n",
    "    print(f\"class name: {class_id}, raw score value: {score_value}\")\n"
   ]
  }
 ],
 "metadata": {
  "kernelspec": {
   "display_name": "py310",
   "language": "python",
   "name": "python3"
  },
  "language_info": {
   "name": "python",
   "version": "3.10.13"
  }
 },
 "nbformat": 4,
 "nbformat_minor": 2
}
